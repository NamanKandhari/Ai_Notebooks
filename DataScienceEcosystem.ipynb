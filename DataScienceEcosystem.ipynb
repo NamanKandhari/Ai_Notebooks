{
  "cells": [
    {
      "cell_type": "markdown",
      "metadata": {
        "id": "view-in-github",
        "colab_type": "text"
      },
      "source": [
        "<a href=\"https://colab.research.google.com/github/NamanKandhari/Ai_Notebooks/blob/main/DataScienceEcosystem.ipynb\" target=\"_parent\"><img src=\"https://colab.research.google.com/assets/colab-badge.svg\" alt=\"Open In Colab\"/></a>"
      ]
    },
    {
      "cell_type": "markdown",
      "metadata": {
        "id": "lwm_-tKmwew_"
      },
      "source": [
        "# Data Science Tools and Ecosystem"
      ]
    },
    {
      "cell_type": "markdown",
      "metadata": {
        "tags": [],
        "id": "j6WAFyqCwew_"
      },
      "source": [
        "In this notebook, Data Science Tools and Ecosystem are summarized."
      ]
    },
    {
      "cell_type": "markdown",
      "metadata": {
        "id": "TLITQ-zewexA"
      },
      "source": [
        "__Objectives:__\n",
        "- Learn some of the popular languages used by Data Scientists\n",
        "- Learn some of the commonly used libraries used by Data Scientists\n",
        "- See some examples of evaluating arithmetic expressions in Python"
      ]
    },
    {
      "cell_type": "markdown",
      "metadata": {
        "id": "mKVR9zQKwexA"
      },
      "source": [
        "Some of the popular languages that Data Scientists use are:\n",
        "\n",
        "1. Python\n",
        "2. R\n",
        "3. SQL"
      ]
    },
    {
      "cell_type": "markdown",
      "metadata": {
        "id": "lmARN55fwexA"
      },
      "source": [
        "Some of the commonly used libraries used by Data Scientists include:\n",
        "\n",
        "1. Numpy\n",
        "2. Pandas\n",
        "3. GGplot\n",
        "4. SciPy\n",
        "\n"
      ]
    },
    {
      "cell_type": "markdown",
      "metadata": {
        "tags": [],
        "id": "Qygt0ln2wexA"
      },
      "source": [
        "| Data Science Tools |\n",
        "| ------------------ |\n",
        "| Jupyter Notebooks |\n",
        "| RStudio |\n",
        "| Apache Spark |\n"
      ]
    },
    {
      "cell_type": "markdown",
      "metadata": {
        "id": "MFGjo2TZwexA"
      },
      "source": [
        "### Below are a few examples of evaluating arithmetic expressions in Python"
      ]
    },
    {
      "cell_type": "code",
      "execution_count": null,
      "metadata": {
        "tags": [],
        "id": "olcVitIkwexB",
        "outputId": "019e3371-b880-43b4-85ff-20e72305a5d2"
      },
      "outputs": [
        {
          "data": {
            "text/plain": [
              "17"
            ]
          },
          "execution_count": 6,
          "metadata": {},
          "output_type": "execute_result"
        }
      ],
      "source": [
        "# This a simple arithmetic expression to mutiply then add integers\n",
        "(3*4)+5"
      ]
    },
    {
      "cell_type": "code",
      "execution_count": null,
      "metadata": {
        "tags": [],
        "id": "wPCMFI2WwexC",
        "outputId": "b443d705-45ad-442f-993b-a79618e7fc00"
      },
      "outputs": [
        {
          "data": {
            "text/plain": [
              "3.3333333333333335"
            ]
          },
          "execution_count": 7,
          "metadata": {},
          "output_type": "execute_result"
        }
      ],
      "source": [
        "# This will convert 200 minutes to hours by diving by 60\n",
        "200 / 60"
      ]
    },
    {
      "cell_type": "markdown",
      "metadata": {
        "id": "yYTFzb9fwexD"
      },
      "source": [
        "## Author\n",
        "Naman Kandhari"
      ]
    },
    {
      "cell_type": "code",
      "execution_count": null,
      "metadata": {
        "id": "CdQ7OMlrwexD"
      },
      "outputs": [],
      "source": []
    }
  ],
  "metadata": {
    "kernelspec": {
      "display_name": "Python",
      "language": "python",
      "name": "conda-env-python-py"
    },
    "language_info": {
      "codemirror_mode": {
        "name": "ipython",
        "version": 3
      },
      "file_extension": ".py",
      "mimetype": "text/x-python",
      "name": "python",
      "nbconvert_exporter": "python",
      "pygments_lexer": "ipython3",
      "version": "3.7.12"
    },
    "colab": {
      "provenance": [],
      "include_colab_link": true
    }
  },
  "nbformat": 4,
  "nbformat_minor": 0
}