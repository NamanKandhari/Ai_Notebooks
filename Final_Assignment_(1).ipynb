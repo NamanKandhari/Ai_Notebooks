{
  "cells": [
    {
      "cell_type": "markdown",
      "metadata": {
        "id": "view-in-github",
        "colab_type": "text"
      },
      "source": [
        "<a href=\"https://colab.research.google.com/github/NamanKandhari/Ai_Notebooks/blob/main/Final_Assignment_(1).ipynb\" target=\"_parent\"><img src=\"https://colab.research.google.com/assets/colab-badge.svg\" alt=\"Open In Colab\"/></a>"
      ]
    },
    {
      "metadata": {
        "collapsed": true,
        "id": "uxb_cU17EwJe"
      },
      "cell_type": "markdown",
      "source": [
        "# My Jupyter Notebook on IBM Watson Studio"
      ]
    },
    {
      "metadata": {
        "id": "tuo6APNtEwJj"
      },
      "cell_type": "markdown",
      "source": [
        "**Naman Kandhari**\n",
        "\n",
        "Data Scientist"
      ]
    },
    {
      "metadata": {
        "id": "8j0c3vmAEwJj"
      },
      "cell_type": "markdown",
      "source": [
        "_I am interested in Data Science because I would love to contribute towards affordable and quality healthcare in the future_"
      ]
    },
    {
      "metadata": {
        "id": "g-sYz6WjEwJk"
      },
      "cell_type": "markdown",
      "source": [
        "### The below should print 'Hello World'"
      ]
    },
    {
      "metadata": {
        "id": "Ix72h2aeEwJk",
        "outputId": "91641d76-d355-47f9-b103-57dd1b8ec20b"
      },
      "cell_type": "code",
      "source": [
        "print(\"Hello World!\")"
      ],
      "execution_count": null,
      "outputs": [
        {
          "output_type": "stream",
          "text": "Hello World!\n",
          "name": "stdout"
        }
      ]
    },
    {
      "metadata": {
        "id": "YLN13Us1EwJm"
      },
      "cell_type": "markdown",
      "source": [
        "> You miss 100% of the shots you don't take\n",
        ">\n",
        " - Wayne Gretzky\n",
        " - Micheal Scott\n",
        "\n",
        "<hr>\n",
        "\n",
        "Made with <3 [My Github](https://github.com/Thomas-George-T)\n"
      ]
    }
  ],
  "metadata": {
    "kernelspec": {
      "name": "python3",
      "display_name": "Python 3.6",
      "language": "python"
    },
    "language_info": {
      "name": "python",
      "version": "3.6.9",
      "mimetype": "text/x-python",
      "codemirror_mode": {
        "name": "ipython",
        "version": 3
      },
      "pygments_lexer": "ipython3",
      "nbconvert_exporter": "python",
      "file_extension": ".py"
    },
    "colab": {
      "provenance": [],
      "include_colab_link": true
    }
  },
  "nbformat": 4,
  "nbformat_minor": 0
}